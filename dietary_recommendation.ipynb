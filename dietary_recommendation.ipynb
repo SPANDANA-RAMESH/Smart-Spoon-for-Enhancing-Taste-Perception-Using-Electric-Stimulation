{
 "cells": [
  {
   "cell_type": "code",
   "execution_count": 10,
   "metadata": {},
   "outputs": [
    {
     "name": "stdout",
     "output_type": "stream",
     "text": [
      "Top 5 Dietary Recommendations Based on Your Calorie Target:\n",
      "\n",
      "chapati → Calories: 120 kcal, Protein: 3 g\n",
      "bhindi_masala → Calories: 120 kcal, Protein: 2 g\n",
      "misi_roti → Calories: 150 kcal, Protein: 4 g\n",
      "karela_bharta → Calories: 150 kcal, Protein: 4 g\n",
      "aloo_gobi → Calories: 150 kcal, Protein: 4 g\n"
     ]
    },
    {
     "name": "stderr",
     "output_type": "stream",
     "text": [
      "c:\\Users\\Bennett Varghese\\AppData\\Local\\Programs\\Python\\Python311\\Lib\\site-packages\\sklearn\\base.py:493: UserWarning: X does not have valid feature names, but StandardScaler was fitted with feature names\n",
      "  warnings.warn(\n"
     ]
    }
   ],
   "source": [
    "import pandas as pd\n",
    "from sklearn.preprocessing import StandardScaler\n",
    "from sklearn.metrics.pairwise import euclidean_distances\n",
    "\n",
    "# Load the CSV\n",
    "df = pd.read_csv('C:/Users/Bennett Varghese/Downloads/Smart Spoon Project/indian_dishes_nutritional_values.csv')\n",
    "\n",
    "# Ensure numeric columns are present\n",
    "df.dropna(subset=['Calories(kcal)', 'Protein(g)'], inplace=True)\n",
    "\n",
    "# Define the columns used for matching\n",
    "all_features = ['Calories(kcal)', 'Protein(g)']\n",
    "\n",
    "# Scale the data\n",
    "scaler = StandardScaler()\n",
    "scaled_data = scaler.fit_transform(df[all_features])\n",
    "\n",
    "# -------- USER INPUT (Modify here) --------\n",
    "user_input = {\n",
    "    'Calories(kcal)': 20,\n",
    "    # 'Protein(g)': 15   # Optional\n",
    "}\n",
    "# ------------------------------------------\n",
    "\n",
    "# Fill in missing values with dataset mean (if Protein not given)\n",
    "input_vector = []\n",
    "for col in all_features:\n",
    "    val = user_input.get(col, df[col].mean())\n",
    "    input_vector.append(val)\n",
    "\n",
    "# Scale user input\n",
    "user_vector = scaler.transform([input_vector])\n",
    "\n",
    "# Compute distances\n",
    "distances = euclidean_distances(scaled_data, user_vector).reshape(-1)\n",
    "df['Distance'] = distances\n",
    "\n",
    "# Recommend top 5 closest dishes\n",
    "recommendations = df.sort_values('Distance').head(5)\n",
    "\n",
    "# Output\n",
    "print(\"Top 5 Dietary Recommendations Based on Your Calorie Target:\\n\")\n",
    "for _, row in recommendations.iterrows():\n",
    "    print(f\"{row['Dish Name']} → Calories: {row['Calories(kcal)']} kcal, Protein: {row['Protein(g)']} g\")\n"
   ]
  }
 ],
 "metadata": {
  "kernelspec": {
   "display_name": "Python 3",
   "language": "python",
   "name": "python3"
  },
  "language_info": {
   "codemirror_mode": {
    "name": "ipython",
    "version": 3
   },
   "file_extension": ".py",
   "mimetype": "text/x-python",
   "name": "python",
   "nbconvert_exporter": "python",
   "pygments_lexer": "ipython3",
   "version": "3.11.3"
  }
 },
 "nbformat": 4,
 "nbformat_minor": 2
}
